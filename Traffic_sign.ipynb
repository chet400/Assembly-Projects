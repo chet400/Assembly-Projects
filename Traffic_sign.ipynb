{
  "cells": [
    {
      "cell_type": "markdown",
      "metadata": {
        "id": "view-in-github",
        "colab_type": "text"
      },
      "source": [
        "<a href=\"https://colab.research.google.com/github/chet400/Assembly-Projects/blob/master/Traffic_sign.ipynb\" target=\"_parent\"><img src=\"https://colab.research.google.com/assets/colab-badge.svg\" alt=\"Open In Colab\"/></a>"
      ]
    },
    {
      "cell_type": "code",
      "source": [
        "from google.colab import drive\n",
        "drive.mount('/content/drive')"
      ],
      "metadata": {
        "colab": {
          "base_uri": "https://localhost:8080/"
        },
        "id": "rD0y4FP616_2",
        "outputId": "fe429335-46b8-4cfc-8986-0ff39b81d917"
      },
      "execution_count": 1,
      "outputs": [
        {
          "output_type": "stream",
          "name": "stdout",
          "text": [
            "Mounted at /content/drive\n"
          ]
        }
      ]
    },
    {
      "cell_type": "code",
      "source": [
        ""
      ],
      "metadata": {
        "id": "jZ-ifhRdZSCx"
      },
      "execution_count": null,
      "outputs": []
    },
    {
      "cell_type": "markdown",
      "source": [
        "Unzipping the Dataset Folder using **!unzip** command"
      ],
      "metadata": {
        "id": "Av1Ptb9as7LB"
      }
    },
    {
      "cell_type": "code",
      "source": [
        "!unzip /content/drive/MyDrive/Dataset/archive.zip"
      ],
      "metadata": {
        "colab": {
          "base_uri": "https://localhost:8080/"
        },
        "id": "7u4M7mZ8113V",
        "outputId": "a44519c8-ccd4-499e-ee09-21f5691b8952"
      },
      "execution_count": 2,
      "outputs": [
        {
          "output_type": "stream",
          "name": "stdout",
          "text": [
            "unzip:  cannot find or open /content/drive/MyDrive/Dataset/archive.zip, /content/drive/MyDrive/Dataset/archive.zip.zip or /content/drive/MyDrive/Dataset/archive.zip.ZIP.\n"
          ]
        }
      ]
    },
    {
      "metadata": {
        "id": "8qdMpKsl1w3S"
      },
      "cell_type": "markdown",
      "source": [
        "## Importing Required Libraries"
      ]
    },
    {
      "metadata": {
        "_uuid": "8f2839f25d086af736a60e9eeb907d3b93b6e0e5",
        "_cell_guid": "b1076dfc-b9ad-4769-8c92-a6c4dae69d19",
        "trusted": true,
        "id": "rLJzzuc91w3T"
      },
      "cell_type": "code",
      "source": [
        "import numpy as np # for numerical operations\n",
        "import pandas as pd # for data analysis\n",
        "import os # for operating system commands\n",
        "import cv2 # to load images\n",
        "import matplotlib.pyplot as plt #for data visualization\n",
        "import tensorflow as tf # for fast numerical computing\n",
        "from tensorflow import keras # tensorflow for deep learning\n",
        "from PIL import Image # for image editing capabilities\n",
        "from sklearn.model_selection import train_test_split #to measure classification performance\n",
        "from tensorflow.keras.preprocessing.image import ImageDataGenerator # Generate batches of tensor image data with real-time data augmentation.\n",
        "from tensorflow.keras.optimizers import Adam #to accelerate the gradient descent algorithm\n",
        "from sklearn.metrics import accuracy_score # ratio of correctly predicted observation to the total observations\n",
        "np.random.seed(42)\n",
        "\n",
        "from matplotlib import style\n",
        "style.use('fivethirtyeight')"
      ],
      "execution_count": 3,
      "outputs": []
    },
    {
      "metadata": {
        "id": "uJWMdfIh1w3W"
      },
      "cell_type": "markdown",
      "source": [
        "## Assigning Path for Dataset"
      ]
    },
    {
      "metadata": {
        "trusted": true,
        "id": "SlBv3D3u1w3W"
      },
      "cell_type": "code",
      "source": [
        "data_dir = '/content/gtsrb-german-traffic-sign'\n",
        "train_path = '/content/gtsrb-german-traffic-sign/Train'\n",
        "test_path = '/content/gtsrb-german-traffic-sign'\n",
        "\n",
        "# Resizing the images to 30x30x3\n",
        "IMG_HEIGHT = 30\n",
        "IMG_WIDTH = 30\n",
        "channels = 3"
      ],
      "execution_count": null,
      "outputs": []
    },
    {
      "metadata": {
        "id": "WP3AyzkR1w3X"
      },
      "cell_type": "markdown",
      "source": [
        "## Finding Total Classes"
      ]
    },
    {
      "metadata": {
        "trusted": true,
        "colab": {
          "base_uri": "https://localhost:8080/",
          "height": 183
        },
        "id": "WEG7GRjY1w3Y",
        "outputId": "ca20c7f6-8a76-492f-be69-a4abfd9f7cb4"
      },
      "cell_type": "code",
      "source": [
        "NUM_CATEGORIES = len(os.listdir(train_path))\n",
        "NUM_CATEGORIES"
      ],
      "execution_count": null,
      "outputs": [
        {
          "output_type": "error",
          "ename": "FileNotFoundError",
          "evalue": "ignored",
          "traceback": [
            "\u001b[0;31m---------------------------------------------------------------------------\u001b[0m",
            "\u001b[0;31mFileNotFoundError\u001b[0m                         Traceback (most recent call last)",
            "\u001b[0;32m<ipython-input-5-215493947f82>\u001b[0m in \u001b[0;36m<module>\u001b[0;34m()\u001b[0m\n\u001b[0;32m----> 1\u001b[0;31m \u001b[0mNUM_CATEGORIES\u001b[0m \u001b[0;34m=\u001b[0m \u001b[0mlen\u001b[0m\u001b[0;34m(\u001b[0m\u001b[0mos\u001b[0m\u001b[0;34m.\u001b[0m\u001b[0mlistdir\u001b[0m\u001b[0;34m(\u001b[0m\u001b[0mtrain_path\u001b[0m\u001b[0;34m)\u001b[0m\u001b[0;34m)\u001b[0m\u001b[0;34m\u001b[0m\u001b[0;34m\u001b[0m\u001b[0m\n\u001b[0m\u001b[1;32m      2\u001b[0m \u001b[0mNUM_CATEGORIES\u001b[0m\u001b[0;34m\u001b[0m\u001b[0;34m\u001b[0m\u001b[0m\n",
            "\u001b[0;31mFileNotFoundError\u001b[0m: [Errno 2] No such file or directory: '/content/gtsrb-german-traffic-sign/Train'"
          ]
        }
      ]
    },
    {
      "metadata": {
        "trusted": true,
        "id": "zY2H_wuK1w3a"
      },
      "cell_type": "code",
      "source": [
        "# Label Overview\n",
        "# Key value pairs are defined in order to recognize the context of image\n",
        "classes = { 0:'Speed limit (20km/h)',\n",
        "            1:'Speed limit (30km/h)', \n",
        "            2:'Speed limit (50km/h)', \n",
        "            3:'Speed limit (60km/h)', \n",
        "            4:'Speed limit (70km/h)', \n",
        "            5:'Speed limit (80km/h)', \n",
        "            6:'End of speed limit (80km/h)', \n",
        "            7:'Speed limit (100km/h)', \n",
        "            8:'Speed limit (120km/h)', \n",
        "            9:'No passing', \n",
        "            10:'No passing veh over 3.5 tons', \n",
        "            11:'Right-of-way at intersection', \n",
        "            12:'Priority road', \n",
        "            13:'Yield', \n",
        "            14:'Stop', \n",
        "            15:'No vehicles', \n",
        "            16:'Veh > 3.5 tons prohibited', \n",
        "            17:'No entry', \n",
        "            18:'General caution', \n",
        "            19:'Dangerous curve left', \n",
        "            20:'Dangerous curve right', \n",
        "            21:'Double curve', \n",
        "            22:'Bumpy road', \n",
        "            23:'Slippery road', \n",
        "            24:'Road narrows on the right', \n",
        "            25:'Road work', \n",
        "            26:'Traffic signals', \n",
        "            27:'Pedestrians', \n",
        "            28:'Children crossing', \n",
        "            29:'Bicycles crossing', \n",
        "            30:'Beware of ice/snow',\n",
        "            31:'Wild animals crossing', \n",
        "            32:'End speed + passing limits', \n",
        "            33:'Turn right ahead', \n",
        "            34:'Turn left ahead', \n",
        "            35:'Ahead only', \n",
        "            36:'Go straight or right', \n",
        "            37:'Go straight or left', \n",
        "            38:'Keep right', \n",
        "            39:'Keep left', \n",
        "            40:'Roundabout mandatory', \n",
        "            41:'End of no passing', \n",
        "            42:'End no passing veh > 3.5 tons' }"
      ],
      "execution_count": null,
      "outputs": []
    },
    {
      "metadata": {
        "id": "L6LipTER1w3b"
      },
      "cell_type": "markdown",
      "source": [
        "## Visualizing The Dataset"
      ]
    },
    {
      "metadata": {
        "_uuid": "d629ff2d2480ee46fbb7e2d37f6b5fab8052498a",
        "_cell_guid": "79c7e3d0-c299-4dcb-8224-4455121ee9b0",
        "trusted": true,
        "id": "SjsxyGFY1w3c"
      },
      "cell_type": "code",
      "source": [
        "folders = os.listdir(train_path)\n",
        "\n",
        "train_number = []\n",
        "class_num = []\n",
        "\n",
        "for folder in folders:\n",
        "    train_files = os.listdir(train_path + '/' + folder)\n",
        "    train_number.append(len(train_files))\n",
        "    class_num.append(classes[int(folder)])\n",
        "    \n",
        "# Sorting the dataset on the basis of number of images in each class\n",
        "zipped_lists = zip(train_number, class_num)\n",
        "sorted_pairs = sorted(zipped_lists)\n",
        "tuples = zip(*sorted_pairs)\n",
        "train_number, class_num = [ list(tuple) for tuple in  tuples]\n",
        "\n",
        "# Plotting the number of images in each class\n",
        "plt.figure(figsize=(21,10))  \n",
        "plt.bar(class_num, train_number)\n",
        "plt.xticks(class_num, rotation='vertical')\n",
        "plt.show()"
      ],
      "execution_count": null,
      "outputs": []
    },
    {
      "metadata": {
        "trusted": true,
        "id": "-XK8TgT41w3e"
      },
      "cell_type": "code",
      "source": [
        "# Visualizing 25 random images from test data\n",
        "import random\n",
        "from matplotlib.image import imread # Reading Image\n",
        "\n",
        "# Reading context of csv file\n",
        "test = pd.read_csv(data_dir + '/Test.csv')\n",
        "imgs = test[\"Path\"].values\n",
        "\n",
        "plt.figure(figsize=(25,25))\n",
        "\n",
        "for i in range(1,26):\n",
        "    plt.subplot(5,5,i)\n",
        "    random_img_path = data_dir + '/' + random.choice(imgs)\n",
        "    rand_img = imread(random_img_path)\n",
        "    plt.imshow(rand_img)\n",
        "    plt.grid(b=None)\n",
        "    plt.xlabel(rand_img.shape[1], fontsize = 20)#width of image\n",
        "    plt.ylabel(rand_img.shape[0], fontsize = 20)#height of image"
      ],
      "execution_count": null,
      "outputs": []
    },
    {
      "metadata": {
        "id": "vpbE4Mrb1w3f"
      },
      "cell_type": "markdown",
      "source": [
        "## Collecting the Training Data"
      ]
    },
    {
      "metadata": {
        "trusted": true,
        "id": "xnQGV7LL1w3f"
      },
      "cell_type": "code",
      "source": [
        "image_data = []\n",
        "image_labels = []\n",
        "\n",
        "for i in range(NUM_CATEGORIES):\n",
        "    path = data_dir + '/Train/' + str(i)\n",
        "    images = os.listdir(path)\n",
        "\n",
        "    for img in images:\n",
        "        try:\n",
        "            image = cv2.imread(path + '/' + img) #Taking Path on image\n",
        "            image_fromarray = Image.fromarray(image, 'RGB')\n",
        "            resize_image = image_fromarray.resize((IMG_HEIGHT, IMG_WIDTH)) # to change dimensions of image\n",
        "            image_data.append(np.array(resize_image))\n",
        "            image_labels.append(i)\n",
        "        except:\n",
        "            print(\"Error in \" + img) # Display error message\n",
        "\n",
        "# Changing the list to numpy array\n",
        "image_data = np.array(image_data)\n",
        "image_labels = np.array(image_labels)\n",
        "\n",
        "print(image_data.shape, image_labels.shape)"
      ],
      "execution_count": null,
      "outputs": []
    },
    {
      "metadata": {
        "id": "fXQeZUet1w3g"
      },
      "cell_type": "markdown",
      "source": [
        "## Shuffling the training data"
      ]
    },
    {
      "metadata": {
        "trusted": true,
        "id": "Mj4TnvId1w3h"
      },
      "cell_type": "code",
      "source": [
        "shuffle_indexes = np.arange(image_data.shape[0])\n",
        "np.random.shuffle(shuffle_indexes)\n",
        "image_data = image_data[shuffle_indexes]\n",
        "image_labels = image_labels[shuffle_indexes]"
      ],
      "execution_count": null,
      "outputs": []
    },
    {
      "metadata": {
        "id": "gpE4nb9Z1w3h"
      },
      "cell_type": "markdown",
      "source": [
        "## Splitting the data into train and validation set"
      ]
    },
    {
      "metadata": {
        "trusted": true,
        "id": "lcTyHKEd1w3i"
      },
      "cell_type": "code",
      "source": [
        "X_train, X_val, y_train, y_val = train_test_split(image_data, image_labels, test_size=0.3, random_state=42, shuffle=True)\n",
        "\n",
        "X_train = X_train/255 \n",
        "X_val = X_val/255\n",
        "\n",
        "print(\"X_train.shape\", X_train.shape)\n",
        "print(\"X_valid.shape\", X_val.shape)\n",
        "print(\"y_train.shape\", y_train.shape)\n",
        "print(\"y_valid.shape\", y_val.shape)"
      ],
      "execution_count": null,
      "outputs": []
    },
    {
      "metadata": {
        "id": "YKr18ixB1w3i"
      },
      "cell_type": "markdown",
      "source": [
        "## One hot encoding the labels"
      ]
    },
    {
      "metadata": {
        "trusted": true,
        "id": "oeCDT7fj1w3j"
      },
      "cell_type": "code",
      "source": [
        "y_train = keras.utils.to_categorical(y_train, NUM_CATEGORIES)\n",
        "y_val = keras.utils.to_categorical(y_val, NUM_CATEGORIES)\n",
        "\n",
        "print(y_train.shape)\n",
        "print(y_val.shape)"
      ],
      "execution_count": null,
      "outputs": []
    },
    {
      "metadata": {
        "id": "tF1FsH1o1w3j"
      },
      "cell_type": "markdown",
      "source": [
        "## Making the model\n",
        "Neural Network\n"
      ]
    },
    {
      "metadata": {
        "trusted": true,
        "id": "H3HfDzDn1w3k"
      },
      "cell_type": "code",
      "source": [
        "model = keras.models.Sequential([    \n",
        "    keras.layers.Conv2D(filters=16, kernel_size=(3,3), activation='relu', input_shape=(IMG_HEIGHT,IMG_WIDTH,channels)),\n",
        "    keras.layers.Conv2D(filters=32, kernel_size=(3,3), activation='relu'),\n",
        "    keras.layers.MaxPool2D(pool_size=(2, 2)),\n",
        "    keras.layers.BatchNormalization(axis=-1),\n",
        "    \n",
        "    keras.layers.Conv2D(filters=64, kernel_size=(3,3), activation='relu'),\n",
        "    keras.layers.Conv2D(filters=128, kernel_size=(3,3), activation='relu'),\n",
        "    keras.layers.MaxPool2D(pool_size=(2, 2)),\n",
        "    keras.layers.BatchNormalization(axis=-1),\n",
        "    \n",
        "    keras.layers.Flatten(),\n",
        "    keras.layers.Dense(512, activation='relu'),\n",
        "    keras.layers.BatchNormalization(),\n",
        "    keras.layers.Dropout(rate=0.5),\n",
        "    \n",
        "    keras.layers.Dense(43, activation='softmax')\n",
        "])"
      ],
      "execution_count": null,
      "outputs": []
    },
    {
      "metadata": {
        "trusted": true,
        "id": "701lGdlg1w3k"
      },
      "cell_type": "code",
      "source": [
        "lr = 0.001\n",
        "epochs = 30 #No. of epochs to be performed\n",
        "\n",
        "# Adam - replacement optimization algorithm for stochastic gradient descent\n",
        "opt = Adam(lr=lr, decay=lr / (epochs * 0.5))\n",
        "model.compile(loss='categorical_crossentropy', optimizer=opt, metrics=['accuracy'])"
      ],
      "execution_count": null,
      "outputs": []
    },
    {
      "metadata": {
        "id": "ylvcfeho1w3l"
      },
      "cell_type": "markdown",
      "source": [
        "## Augmenting the data and training the model"
      ]
    },
    {
      "metadata": {
        "trusted": true,
        "id": "ufmBjwn71w3m"
      },
      "cell_type": "code",
      "source": [
        "aug = ImageDataGenerator(\n",
        "    rotation_range=10,\n",
        "    zoom_range=0.15,\n",
        "    width_shift_range=0.1,\n",
        "    height_shift_range=0.1,\n",
        "    shear_range=0.15,\n",
        "    horizontal_flip=False,\n",
        "    vertical_flip=False,\n",
        "    fill_mode=\"nearest\")\n",
        "\n",
        "history = model.fit(aug.flow(X_train, y_train, batch_size=32), epochs=epochs, validation_data=(X_val, y_val))"
      ],
      "execution_count": null,
      "outputs": []
    },
    {
      "metadata": {
        "id": "dKfgy9DR1w3n"
      },
      "cell_type": "markdown",
      "source": [
        "## Loading the test data and running the predictions"
      ]
    },
    {
      "metadata": {
        "trusted": true,
        "id": "sKprh3cs1w3o"
      },
      "cell_type": "code",
      "source": [
        "test = pd.read_csv(data_dir + '/Test.csv')\n",
        "\n",
        "labels = test[\"ClassId\"].values\n",
        "imgs = test[\"Path\"].values\n",
        "\n",
        "data =[]\n",
        "\n",
        "for img in imgs:\n",
        "    try:\n",
        "        image = cv2.imread(data_dir + '/' +img)\n",
        "        image_fromarray = Image.fromarray(image, 'RGB')\n",
        "        resize_image = image_fromarray.resize((IMG_HEIGHT, IMG_WIDTH))\n",
        "        data.append(np.array(resize_image))\n",
        "    except:\n",
        "        print(\"Error in \" + img)\n",
        "X_test = np.array(data)\n",
        "X_test = X_test/255 # Normalizing the data\n",
        "\n",
        "predict = model.predict(X_test) \n",
        "pred = np.argmax(predict,axis=1)\n",
        "#pred = model.predict_classes(X_test)\n",
        "\n",
        "#Accuracy with the test data\n",
        "print('Test Data accuracy: ',accuracy_score(labels, pred)*100)"
      ],
      "execution_count": null,
      "outputs": []
    },
    {
      "metadata": {
        "id": "_Vrg4j7m1w3r"
      },
      "cell_type": "markdown",
      "source": [
        "## Predictions on Test Data"
      ]
    },
    {
      "metadata": {
        "trusted": true,
        "id": "ZCteVj251w3r"
      },
      "cell_type": "code",
      "source": [
        "plt.figure(figsize = (25, 25))\n",
        "\n",
        "start_index = 0\n",
        "for i in range(25):\n",
        "    plt.subplot(5, 5, i + 1)\n",
        "    plt.grid(False)\n",
        "    plt.xticks([])\n",
        "    plt.yticks([])\n",
        "    prediction = pred[start_index + i]\n",
        "    actual = labels[start_index + i]\n",
        "    col = 'g'\n",
        "    if prediction != actual:\n",
        "        col = 'r'\n",
        "    plt.xlabel('Actual={} || Pred={}'.format(actual, prediction), color = col)\n",
        "    plt.imshow(X_test[start_index + i])\n",
        "plt.show()"
      ],
      "execution_count": null,
      "outputs": []
    },
    {
      "cell_type": "markdown",
      "source": [
        "# Saving the model named as \"model.h5\""
      ],
      "metadata": {
        "id": "ghmpNs_Utlli"
      }
    },
    {
      "cell_type": "code",
      "source": [
        "model.save('model.h5') #Saving Model"
      ],
      "metadata": {
        "id": "YIrXcBc6GEzh"
      },
      "execution_count": null,
      "outputs": []
    }
  ],
  "metadata": {
    "kernelspec": {
      "name": "python3",
      "display_name": "Python 3",
      "language": "python"
    },
    "language_info": {
      "name": "python",
      "version": "3.7.6",
      "mimetype": "text/x-python",
      "codemirror_mode": {
        "name": "ipython",
        "version": 3
      },
      "pygments_lexer": "ipython3",
      "nbconvert_exporter": "python",
      "file_extension": ".py"
    },
    "colab": {
      "name": "Traffic sign.ipynb",
      "provenance": [],
      "collapsed_sections": [],
      "include_colab_link": true
    }
  },
  "nbformat": 4,
  "nbformat_minor": 0
}